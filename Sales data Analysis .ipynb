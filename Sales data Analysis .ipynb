{
 "cells": [
  {
   "cell_type": "code",
   "execution_count": 2,
   "id": "d6168625",
   "metadata": {},
   "outputs": [],
   "source": [
    "import pandas as pd\n",
    "import numpy as np\n",
    "import matplotlib.pyplot as plt\n"
   ]
  },
  {
   "cell_type": "code",
   "execution_count": 3,
   "id": "2c783eb9",
   "metadata": {},
   "outputs": [],
   "source": [
    "sales_data = pd.read_csv('Salesdata.csv')"
   ]
  },
  {
   "cell_type": "code",
   "execution_count": 4,
   "id": "cbd58aa0",
   "metadata": {},
   "outputs": [
    {
     "data": {
      "text/html": [
       "<div>\n",
       "<style scoped>\n",
       "    .dataframe tbody tr th:only-of-type {\n",
       "        vertical-align: middle;\n",
       "    }\n",
       "\n",
       "    .dataframe tbody tr th {\n",
       "        vertical-align: top;\n",
       "    }\n",
       "\n",
       "    .dataframe thead th {\n",
       "        text-align: right;\n",
       "    }\n",
       "</style>\n",
       "<table border=\"1\" class=\"dataframe\">\n",
       "  <thead>\n",
       "    <tr style=\"text-align: right;\">\n",
       "      <th></th>\n",
       "      <th>Row ID+O6G3A1:R6</th>\n",
       "      <th>Order ID</th>\n",
       "      <th>Order Date</th>\n",
       "      <th>Ship Date</th>\n",
       "      <th>Ship Mode</th>\n",
       "      <th>Customer ID</th>\n",
       "      <th>Customer Name</th>\n",
       "      <th>Segment</th>\n",
       "      <th>Country</th>\n",
       "      <th>City</th>\n",
       "      <th>...</th>\n",
       "      <th>Category</th>\n",
       "      <th>Sub-Category</th>\n",
       "      <th>Product Name</th>\n",
       "      <th>Sales</th>\n",
       "      <th>Quantity</th>\n",
       "      <th>Profit</th>\n",
       "      <th>Returns</th>\n",
       "      <th>Payment Mode</th>\n",
       "      <th>ind1</th>\n",
       "      <th>ind2</th>\n",
       "    </tr>\n",
       "  </thead>\n",
       "  <tbody>\n",
       "    <tr>\n",
       "      <th>0</th>\n",
       "      <td>4918</td>\n",
       "      <td>CA-2019-160304</td>\n",
       "      <td>01-01-2019</td>\n",
       "      <td>07-01-2019</td>\n",
       "      <td>Standard Class</td>\n",
       "      <td>BM-11575</td>\n",
       "      <td>Brendan Murry</td>\n",
       "      <td>Corporate</td>\n",
       "      <td>United States</td>\n",
       "      <td>Gaithersburg</td>\n",
       "      <td>...</td>\n",
       "      <td>Furniture</td>\n",
       "      <td>Bookcases</td>\n",
       "      <td>Bush Westfield Collection Bookcases, Medium Ch...</td>\n",
       "      <td>73.94</td>\n",
       "      <td>1</td>\n",
       "      <td>28.2668</td>\n",
       "      <td>NaN</td>\n",
       "      <td>Online</td>\n",
       "      <td>NaN</td>\n",
       "      <td>NaN</td>\n",
       "    </tr>\n",
       "    <tr>\n",
       "      <th>1</th>\n",
       "      <td>4919</td>\n",
       "      <td>CA-2019-160304</td>\n",
       "      <td>02-01-2019</td>\n",
       "      <td>07-01-2019</td>\n",
       "      <td>Standard Class</td>\n",
       "      <td>BM-11575</td>\n",
       "      <td>Brendan Murry</td>\n",
       "      <td>Corporate</td>\n",
       "      <td>United States</td>\n",
       "      <td>Gaithersburg</td>\n",
       "      <td>...</td>\n",
       "      <td>Furniture</td>\n",
       "      <td>Bookcases</td>\n",
       "      <td>Bush Westfield Collection Bookcases, Medium Ch...</td>\n",
       "      <td>173.94</td>\n",
       "      <td>3</td>\n",
       "      <td>38.2668</td>\n",
       "      <td>NaN</td>\n",
       "      <td>Online</td>\n",
       "      <td>NaN</td>\n",
       "      <td>NaN</td>\n",
       "    </tr>\n",
       "    <tr>\n",
       "      <th>2</th>\n",
       "      <td>4920</td>\n",
       "      <td>CA-2019-160304</td>\n",
       "      <td>02-01-2019</td>\n",
       "      <td>07-01-2019</td>\n",
       "      <td>Standard Class</td>\n",
       "      <td>BM-11575</td>\n",
       "      <td>Brendan Murry</td>\n",
       "      <td>Corporate</td>\n",
       "      <td>United States</td>\n",
       "      <td>Gaithersburg</td>\n",
       "      <td>...</td>\n",
       "      <td>Technology</td>\n",
       "      <td>Phones</td>\n",
       "      <td>GE 30522EE2</td>\n",
       "      <td>231.98</td>\n",
       "      <td>2</td>\n",
       "      <td>67.2742</td>\n",
       "      <td>NaN</td>\n",
       "      <td>Cards</td>\n",
       "      <td>NaN</td>\n",
       "      <td>NaN</td>\n",
       "    </tr>\n",
       "    <tr>\n",
       "      <th>3</th>\n",
       "      <td>3074</td>\n",
       "      <td>CA-2019-125206</td>\n",
       "      <td>03-01-2019</td>\n",
       "      <td>05-01-2019</td>\n",
       "      <td>First Class</td>\n",
       "      <td>LR-16915</td>\n",
       "      <td>Lena Radford</td>\n",
       "      <td>Consumer</td>\n",
       "      <td>United States</td>\n",
       "      <td>Los Angeles</td>\n",
       "      <td>...</td>\n",
       "      <td>Office Supplies</td>\n",
       "      <td>Storage</td>\n",
       "      <td>Recycled Steel Personal File for Hanging File ...</td>\n",
       "      <td>114.46</td>\n",
       "      <td>2</td>\n",
       "      <td>28.6150</td>\n",
       "      <td>NaN</td>\n",
       "      <td>Online</td>\n",
       "      <td>NaN</td>\n",
       "      <td>NaN</td>\n",
       "    </tr>\n",
       "    <tr>\n",
       "      <th>4</th>\n",
       "      <td>8604</td>\n",
       "      <td>US-2019-116365</td>\n",
       "      <td>03-01-2019</td>\n",
       "      <td>08-01-2019</td>\n",
       "      <td>Standard Class</td>\n",
       "      <td>CA-12310</td>\n",
       "      <td>Christine Abelman</td>\n",
       "      <td>Corporate</td>\n",
       "      <td>United States</td>\n",
       "      <td>San Antonio</td>\n",
       "      <td>...</td>\n",
       "      <td>Technology</td>\n",
       "      <td>Accessories</td>\n",
       "      <td>Imation Clip USB flash drive - 8 GB</td>\n",
       "      <td>30.08</td>\n",
       "      <td>2</td>\n",
       "      <td>-5.2640</td>\n",
       "      <td>NaN</td>\n",
       "      <td>Online</td>\n",
       "      <td>NaN</td>\n",
       "      <td>NaN</td>\n",
       "    </tr>\n",
       "  </tbody>\n",
       "</table>\n",
       "<p>5 rows × 23 columns</p>\n",
       "</div>"
      ],
      "text/plain": [
       "   Row ID+O6G3A1:R6        Order ID  Order Date   Ship Date       Ship Mode   \n",
       "0              4918  CA-2019-160304  01-01-2019  07-01-2019  Standard Class  \\\n",
       "1              4919  CA-2019-160304  02-01-2019  07-01-2019  Standard Class   \n",
       "2              4920  CA-2019-160304  02-01-2019  07-01-2019  Standard Class   \n",
       "3              3074  CA-2019-125206  03-01-2019  05-01-2019     First Class   \n",
       "4              8604  US-2019-116365  03-01-2019  08-01-2019  Standard Class   \n",
       "\n",
       "  Customer ID      Customer Name    Segment        Country          City  ...   \n",
       "0    BM-11575      Brendan Murry  Corporate  United States  Gaithersburg  ...  \\\n",
       "1    BM-11575      Brendan Murry  Corporate  United States  Gaithersburg  ...   \n",
       "2    BM-11575      Brendan Murry  Corporate  United States  Gaithersburg  ...   \n",
       "3    LR-16915       Lena Radford   Consumer  United States   Los Angeles  ...   \n",
       "4    CA-12310  Christine Abelman  Corporate  United States   San Antonio  ...   \n",
       "\n",
       "          Category Sub-Category   \n",
       "0        Furniture    Bookcases  \\\n",
       "1        Furniture    Bookcases   \n",
       "2       Technology       Phones   \n",
       "3  Office Supplies      Storage   \n",
       "4       Technology  Accessories   \n",
       "\n",
       "                                        Product Name   Sales Quantity   \n",
       "0  Bush Westfield Collection Bookcases, Medium Ch...   73.94        1  \\\n",
       "1  Bush Westfield Collection Bookcases, Medium Ch...  173.94        3   \n",
       "2                                        GE 30522EE2  231.98        2   \n",
       "3  Recycled Steel Personal File for Hanging File ...  114.46        2   \n",
       "4                Imation Clip USB flash drive - 8 GB   30.08        2   \n",
       "\n",
       "    Profit  Returns  Payment Mode  ind1  ind2  \n",
       "0  28.2668      NaN        Online   NaN   NaN  \n",
       "1  38.2668      NaN        Online   NaN   NaN  \n",
       "2  67.2742      NaN         Cards   NaN   NaN  \n",
       "3  28.6150      NaN        Online   NaN   NaN  \n",
       "4  -5.2640      NaN        Online   NaN   NaN  \n",
       "\n",
       "[5 rows x 23 columns]"
      ]
     },
     "execution_count": 4,
     "metadata": {},
     "output_type": "execute_result"
    }
   ],
   "source": [
    "sales_data.head()"
   ]
  },
  {
   "cell_type": "code",
   "execution_count": 7,
   "id": "7ce470a1",
   "metadata": {},
   "outputs": [
    {
     "data": {
      "text/plain": [
       "dtype('float64')"
      ]
     },
     "execution_count": 7,
     "metadata": {},
     "output_type": "execute_result"
    }
   ],
   "source": [
    "sales_data['Profit'].dtype\n"
   ]
  },
  {
   "cell_type": "code",
   "execution_count": 10,
   "id": "1f3961c4",
   "metadata": {},
   "outputs": [
    {
     "name": "stdout",
     "output_type": "stream",
     "text": [
      "The total profit of this Super Market is: Rs 175262.1059\n"
     ]
    }
   ],
   "source": [
    "total_profit = sales_data['Profit'].sum()\n",
    "print('The total profit of this Super Market is: Rs', total_profit)"
   ]
  },
  {
   "cell_type": "code",
   "execution_count": 33,
   "id": "dd0c9c1b",
   "metadata": {},
   "outputs": [
    {
     "data": {
      "text/plain": [
       "0    Online\n",
       "1    Online\n",
       "2     Cards\n",
       "3    Online\n",
       "4    Online\n",
       "Name: Payment Mode, dtype: object"
      ]
     },
     "execution_count": 33,
     "metadata": {},
     "output_type": "execute_result"
    }
   ],
   "source": [
    "sales_data['Payment Mode'].head()"
   ]
  },
  {
   "cell_type": "code",
   "execution_count": 39,
   "id": "b99df8dd",
   "metadata": {},
   "outputs": [
    {
     "data": {
      "image/png": "[encoded data removed]",
      "text/plain": [
       "<Figure size 640x480 with 1 Axes>"
      ]
     },
     "metadata": {},
     "output_type": "display_data"
    }
   ],
   "source": [
    "payment_mode_quantity = sales_data.groupby('Payment Mode')['Quantity'].sum()\n",
    "payment_mode_quantity.plot(kind='bar')\n",
    "plt.xlabel('Payment Mode')\n",
    "plt.ylabel('Quantity')\n",
    "plt.title('Payment Mode VS Quantity')\n",
    "plt.show()"
   ]
  },
  {
   "cell_type": "code",
   "execution_count": 65,
   "id": "7997a599",
   "metadata": {},
   "outputs": [
    {
     "data": {
      "image/png": "[encoded data removed]",
      "text/plain": [
       "<Figure size 640x480 with 1 Axes>"
      ]
     },
     "metadata": {},
     "output_type": "display_data"
    }
   ],
   "source": [
    "category_counts = sales_data['Category'].value_counts()\n",
    "plt.pie(category_counts.values, labels=category_counts.index, autopct='%1.1f%%')\n",
    "plt.title('Category Distribution')\n",
    "plt.show()"
   ]
  },
  {
   "cell_type": "code",
   "execution_count": null,
   "id": "3697d043",
   "metadata": {},
   "outputs": [],
   "source": []
  }
 ],
 "metadata": {
  "kernelspec": {
   "display_name": "Python 3 (ipykernel)",
   "language": "python",
   "name": "python3"
  },
  "language_info": {
   "codemirror_mode": {
    "name": "ipython",
    "version": 3
   },
   "file_extension": ".py",
   "mimetype": "text/x-python",
   "name": "python",
   "nbconvert_exporter": "python",
   "pygments_lexer": "ipython3",
   "version": "3.9.5"
  }
 },
 "nbformat": 4,
 "nbformat_minor": 5
}
